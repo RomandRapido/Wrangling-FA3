{
 "cells": [
  {
   "cell_type": "markdown",
   "id": "1978546a-4e77-4ece-8e35-c2fff9e9a6e6",
   "metadata": {},
   "source": [
    "<div style=\"text-align: center;\"> <h3>Data Mining and Wrangling</h3>\n",
    "<h5>Formative Assessment 3</h5>\n",
    "<h5>February 23, 2025</h5>    \n",
    "<h5><u>By Romand Lansangan</u></h5>\n",
    "    </div>\n",
    "    \n",
    "---"
   ]
  },
  {
   "cell_type": "markdown",
   "id": "79e54be7-8fdb-403b-aaf5-a4c3f4a7fafe",
   "metadata": {},
   "source": [
    "### Case study: Major League Baseball\n",
    "What is the relationship between payroll and wins among Major League Baseball (MLB) teams? In this homework,\n",
    "we’ll find out by wrangling, exploring, and modeling the dataset in MLPayData_Total.rdata, which contains the\n",
    "winning records and the payroll data of all 30 MLB teams from 1998 to 2014.\n",
    "The dataset has the following variables:\n",
    "* payroll: total team payroll (in billions of dollars) over the 17-year period\n",
    "* avgwin: the aggregated win percentage over the 17-year period\n",
    "* Team.name.2014: the name of the team\n",
    "* p1998, . . . , p2014: payroll for each year (in millions of dollars)\n",
    "* X1998, . . . , X2014: number of wins for each year\n",
    "* X1998.pct, . . . , X2014.pct: win percentage for each year\n",
    "We’ll need to use the following R packages:"
   ]
  },
  {
   "cell_type": "markdown",
   "id": "a6e9d4b7-80ac-4374-b92b-e1568b868b9c",
   "metadata": {},
   "source": [
    "<style>\n",
    "    .jp-OutputArea-child {\n",
    "        display: flex;\n",
    "        justify-content: center;\n",
    "    }\n",
    "</style>"
   ]
  },
  {
   "cell_type": "code",
   "execution_count": 216,
   "id": "9b4cb2d6-26b4-46c6-8fdb-bf31d5c959bc",
   "metadata": {},
   "outputs": [],
   "source": [
    "library(tidyverse)\n",
    "library(tibble)\n",
    "library(ggrepel)\n",
    "library(ggthemes)\n",
    "library(knitr)\n",
    "library(formattable)\n",
    "library(IRdisplay)\n",
    "library(grid)"
   ]
  },
  {
   "cell_type": "markdown",
   "id": "d27dccbf-8508-4708-a0af-39a4d2492dcf",
   "metadata": {},
   "source": [
    "### Wrangle\n",
    "#### 1.1 Import (5 points)\n",
    "* Import the data into a tibble called mlb_raw and print it.\n",
    "\n",
    "<center>"
   ]
  },
  {
   "cell_type": "code",
   "execution_count": 2,
   "id": "12bb9ddd-6b99-41fe-a21d-b01b4dff5929",
   "metadata": {},
   "outputs": [],
   "source": [
    "load(\"ml_pay.rdata\")"
   ]
  },
  {
   "cell_type": "code",
   "execution_count": 4,
   "id": "5032c3b9-f481-44ab-bf23-6f10bbe0da93",
   "metadata": {},
   "outputs": [
    {
     "data": {
      "text/html": [
       "<div style='display: flex; justify-content: center;'><table class=\"table table-condensed\">\n",
       " <thead>\n",
       "  <tr>\n",
       "   <th style=\"text-align:right;\"> payroll </th>\n",
       "   <th style=\"text-align:right;\"> avgwin </th>\n",
       "   <th style=\"text-align:right;\"> Team.name.2014 </th>\n",
       "   <th style=\"text-align:right;\"> p1998 </th>\n",
       "   <th style=\"text-align:right;\"> p1999 </th>\n",
       "   <th style=\"text-align:right;\"> p2000 </th>\n",
       "   <th style=\"text-align:right;\"> p2001 </th>\n",
       "   <th style=\"text-align:right;\"> p2002 </th>\n",
       "   <th style=\"text-align:right;\"> p2003 </th>\n",
       "   <th style=\"text-align:right;\"> p2004 </th>\n",
       "  </tr>\n",
       " </thead>\n",
       "<tbody>\n",
       "  <tr>\n",
       "   <td style=\"text-align:right;\"> 1.120874 </td>\n",
       "   <td style=\"text-align:right;\"> 0.4902585 </td>\n",
       "   <td style=\"text-align:right;\"> Arizona Diamondbacks </td>\n",
       "   <td style=\"text-align:right;\"> 31.61450 </td>\n",
       "   <td style=\"text-align:right;\"> 70.49600 </td>\n",
       "   <td style=\"text-align:right;\"> 81.02783 </td>\n",
       "   <td style=\"text-align:right;\"> 81.20651 </td>\n",
       "   <td style=\"text-align:right;\"> 102.82000 </td>\n",
       "   <td style=\"text-align:right;\"> 80.64033 </td>\n",
       "   <td style=\"text-align:right;\"> 70.20498 </td>\n",
       "  </tr>\n",
       "  <tr>\n",
       "   <td style=\"text-align:right;\"> 1.381712 </td>\n",
       "   <td style=\"text-align:right;\"> 0.5527605 </td>\n",
       "   <td style=\"text-align:right;\"> Atlanta Braves </td>\n",
       "   <td style=\"text-align:right;\"> 61.70800 </td>\n",
       "   <td style=\"text-align:right;\"> 74.89000 </td>\n",
       "   <td style=\"text-align:right;\"> 84.53784 </td>\n",
       "   <td style=\"text-align:right;\"> 91.85169 </td>\n",
       "   <td style=\"text-align:right;\"> 93.47037 </td>\n",
       "   <td style=\"text-align:right;\"> 106.24367 </td>\n",
       "   <td style=\"text-align:right;\"> 88.50779 </td>\n",
       "  </tr>\n",
       "  <tr>\n",
       "   <td style=\"text-align:right;\"> 1.161212 </td>\n",
       "   <td style=\"text-align:right;\"> 0.4538250 </td>\n",
       "   <td style=\"text-align:right;\"> Baltimore Orioles </td>\n",
       "   <td style=\"text-align:right;\"> 71.86092 </td>\n",
       "   <td style=\"text-align:right;\"> 72.19836 </td>\n",
       "   <td style=\"text-align:right;\"> 81.44743 </td>\n",
       "   <td style=\"text-align:right;\"> 72.42633 </td>\n",
       "   <td style=\"text-align:right;\"> 60.49349 </td>\n",
       "   <td style=\"text-align:right;\"> 73.87750 </td>\n",
       "   <td style=\"text-align:right;\"> 51.21265 </td>\n",
       "  </tr>\n",
       "  <tr>\n",
       "   <td style=\"text-align:right;\"> 1.972359 </td>\n",
       "   <td style=\"text-align:right;\"> 0.5487172 </td>\n",
       "   <td style=\"text-align:right;\"> Boston Red Sox </td>\n",
       "   <td style=\"text-align:right;\"> 59.49700 </td>\n",
       "   <td style=\"text-align:right;\"> 71.72500 </td>\n",
       "   <td style=\"text-align:right;\"> 77.94033 </td>\n",
       "   <td style=\"text-align:right;\"> 109.55891 </td>\n",
       "   <td style=\"text-align:right;\"> 108.36606 </td>\n",
       "   <td style=\"text-align:right;\"> 99.94650 </td>\n",
       "   <td style=\"text-align:right;\"> 125.20854 </td>\n",
       "  </tr>\n",
       "  <tr>\n",
       "   <td style=\"text-align:right;\"> 1.459767 </td>\n",
       "   <td style=\"text-align:right;\"> 0.4736557 </td>\n",
       "   <td style=\"text-align:right;\"> Chicago Cubs </td>\n",
       "   <td style=\"text-align:right;\"> 49.81600 </td>\n",
       "   <td style=\"text-align:right;\"> 42.14276 </td>\n",
       "   <td style=\"text-align:right;\"> 60.53933 </td>\n",
       "   <td style=\"text-align:right;\"> 64.01583 </td>\n",
       "   <td style=\"text-align:right;\"> 75.69083 </td>\n",
       "   <td style=\"text-align:right;\"> 79.86833 </td>\n",
       "   <td style=\"text-align:right;\"> 91.10167 </td>\n",
       "  </tr>\n",
       "  <tr>\n",
       "   <td style=\"text-align:right;\"> 1.315391 </td>\n",
       "   <td style=\"text-align:right;\"> 0.5111170 </td>\n",
       "   <td style=\"text-align:right;\"> Chicago White Sox </td>\n",
       "   <td style=\"text-align:right;\"> 35.18000 </td>\n",
       "   <td style=\"text-align:right;\"> 24.53500 </td>\n",
       "   <td style=\"text-align:right;\"> 31.13350 </td>\n",
       "   <td style=\"text-align:right;\"> 62.36300 </td>\n",
       "   <td style=\"text-align:right;\"> 57.05283 </td>\n",
       "   <td style=\"text-align:right;\"> 51.01000 </td>\n",
       "   <td style=\"text-align:right;\"> 65.21250 </td>\n",
       "  </tr>\n",
       "  <tr>\n",
       "   <td style=\"text-align:right;\"> 1.024782 </td>\n",
       "   <td style=\"text-align:right;\"> 0.4861602 </td>\n",
       "   <td style=\"text-align:right;\"> Cincinnati Reds </td>\n",
       "   <td style=\"text-align:right;\"> 20.70733 </td>\n",
       "   <td style=\"text-align:right;\"> 73.27846 </td>\n",
       "   <td style=\"text-align:right;\"> 46.86720 </td>\n",
       "   <td style=\"text-align:right;\"> 45.22788 </td>\n",
       "   <td style=\"text-align:right;\"> 45.05039 </td>\n",
       "   <td style=\"text-align:right;\"> 59.35567 </td>\n",
       "   <td style=\"text-align:right;\"> 43.06786 </td>\n",
       "  </tr>\n",
       "</tbody>\n",
       "</table></div>"
      ]
     },
     "metadata": {},
     "output_type": "display_data"
    }
   ],
   "source": [
    "mlb_raw <- tibble(ml_pay)\n",
    "print_table <- function(df, head=7){\n",
    "    formatted_table <- df %>%\n",
    "        head(head) %>%\n",
    "        formattable()\n",
    "\n",
    "    display_html(paste0(\"<div style='display: flex; justify-content: center;'>\", as.character(formatted_table), \"</div>\"))\n",
    "}\n",
    "print_table(mlb_raw[,c(1:10)])"
   ]
  },
  {
   "cell_type": "markdown",
   "id": "f46b327e-a500-48fd-8778-9757f47ff7f1",
   "metadata": {},
   "source": [
    "<center style=\"font-size: 17px\"><b>Table 1</b>: Table representing original ML Pay dataset</center>"
   ]
  },
  {
   "cell_type": "markdown",
   "id": "5f1726b5-be52-45b1-9eda-1506be9caf4e",
   "metadata": {},
   "source": [
    "How many rows and columns does the data have?"
   ]
  },
  {
   "cell_type": "code",
   "execution_count": 6,
   "id": "1ce0f25f-5b6f-4252-8de5-51ce99fd2e4e",
   "metadata": {},
   "outputs": [
    {
     "name": "stdout",
     "output_type": "stream",
     "text": [
      "[1] \"Rows:  30\"\n",
      "[1] \"Columns:  54\"\n"
     ]
    }
   ],
   "source": [
    "print(paste(\"Rows: \", nrow(mlb_raw)))\n",
    "print(paste(\"Columns: \", ncol(mlb_raw)))"
   ]
  },
  {
   "cell_type": "markdown",
   "id": "bc1eac49-95b0-4464-8a23-a3cc7f62d5d8",
   "metadata": {},
   "source": [
    "Does this match up with the data description given above?"
   ]
  },
  {
   "cell_type": "code",
   "execution_count": 8,
   "id": "cc0b640f-ab6f-477e-957b-76e309f3c6ed",
   "metadata": {},
   "outputs": [
    {
     "data": {
      "text/html": [
       "<div style='display: flex; justify-content: center;'><table class=\"table table-condensed\">\n",
       " <thead>\n",
       "  <tr>\n",
       "   <th style=\"text-align:right;\"> payroll </th>\n",
       "   <th style=\"text-align:right;\"> avgwin </th>\n",
       "   <th style=\"text-align:right;\"> Team.name.2014 </th>\n",
       "   <th style=\"text-align:right;\"> p1998 </th>\n",
       "   <th style=\"text-align:right;\"> p2014 </th>\n",
       "   <th style=\"text-align:right;\"> X1998 </th>\n",
       "   <th style=\"text-align:right;\"> X2014 </th>\n",
       "   <th style=\"text-align:right;\"> X1998.pct </th>\n",
       "   <th style=\"text-align:right;\"> X2014.pct </th>\n",
       "  </tr>\n",
       " </thead>\n",
       "<tbody>\n",
       "  <tr>\n",
       "   <td style=\"text-align:right;\"> 1.120874 </td>\n",
       "   <td style=\"text-align:right;\"> 0.4902585 </td>\n",
       "   <td style=\"text-align:right;\"> Arizona Diamondbacks </td>\n",
       "   <td style=\"text-align:right;\"> 31.61450 </td>\n",
       "   <td style=\"text-align:right;\"> 112.68867 </td>\n",
       "   <td style=\"text-align:right;\"> 65 </td>\n",
       "   <td style=\"text-align:right;\"> 59 </td>\n",
       "   <td style=\"text-align:right;\"> 0.3987730 </td>\n",
       "   <td style=\"text-align:right;\"> 0.4154930 </td>\n",
       "  </tr>\n",
       "  <tr>\n",
       "   <td style=\"text-align:right;\"> 1.381712 </td>\n",
       "   <td style=\"text-align:right;\"> 0.5527605 </td>\n",
       "   <td style=\"text-align:right;\"> Atlanta Braves </td>\n",
       "   <td style=\"text-align:right;\"> 61.70800 </td>\n",
       "   <td style=\"text-align:right;\"> 110.89734 </td>\n",
       "   <td style=\"text-align:right;\"> 106 </td>\n",
       "   <td style=\"text-align:right;\"> 73 </td>\n",
       "   <td style=\"text-align:right;\"> 0.6503067 </td>\n",
       "   <td style=\"text-align:right;\"> 0.5140845 </td>\n",
       "  </tr>\n",
       "  <tr>\n",
       "   <td style=\"text-align:right;\"> 1.161212 </td>\n",
       "   <td style=\"text-align:right;\"> 0.4538250 </td>\n",
       "   <td style=\"text-align:right;\"> Baltimore Orioles </td>\n",
       "   <td style=\"text-align:right;\"> 71.86092 </td>\n",
       "   <td style=\"text-align:right;\"> 107.40662 </td>\n",
       "   <td style=\"text-align:right;\"> 79 </td>\n",
       "   <td style=\"text-align:right;\"> 82 </td>\n",
       "   <td style=\"text-align:right;\"> 0.4846626 </td>\n",
       "   <td style=\"text-align:right;\"> 0.5774648 </td>\n",
       "  </tr>\n",
       "  <tr>\n",
       "   <td style=\"text-align:right;\"> 1.972359 </td>\n",
       "   <td style=\"text-align:right;\"> 0.5487172 </td>\n",
       "   <td style=\"text-align:right;\"> Boston Red Sox </td>\n",
       "   <td style=\"text-align:right;\"> 59.49700 </td>\n",
       "   <td style=\"text-align:right;\"> 162.81741 </td>\n",
       "   <td style=\"text-align:right;\"> 92 </td>\n",
       "   <td style=\"text-align:right;\"> 62 </td>\n",
       "   <td style=\"text-align:right;\"> 0.5644172 </td>\n",
       "   <td style=\"text-align:right;\"> 0.4366197 </td>\n",
       "  </tr>\n",
       "  <tr>\n",
       "   <td style=\"text-align:right;\"> 1.459767 </td>\n",
       "   <td style=\"text-align:right;\"> 0.4736557 </td>\n",
       "   <td style=\"text-align:right;\"> Chicago Cubs </td>\n",
       "   <td style=\"text-align:right;\"> 49.81600 </td>\n",
       "   <td style=\"text-align:right;\"> 89.00786 </td>\n",
       "   <td style=\"text-align:right;\"> 90 </td>\n",
       "   <td style=\"text-align:right;\"> 64 </td>\n",
       "   <td style=\"text-align:right;\"> 0.5521472 </td>\n",
       "   <td style=\"text-align:right;\"> 0.4507042 </td>\n",
       "  </tr>\n",
       "  <tr>\n",
       "   <td style=\"text-align:right;\"> 1.315391 </td>\n",
       "   <td style=\"text-align:right;\"> 0.5111170 </td>\n",
       "   <td style=\"text-align:right;\"> Chicago White Sox </td>\n",
       "   <td style=\"text-align:right;\"> 35.18000 </td>\n",
       "   <td style=\"text-align:right;\"> 91.15925 </td>\n",
       "   <td style=\"text-align:right;\"> 80 </td>\n",
       "   <td style=\"text-align:right;\"> 63 </td>\n",
       "   <td style=\"text-align:right;\"> 0.4907975 </td>\n",
       "   <td style=\"text-align:right;\"> 0.4436620 </td>\n",
       "  </tr>\n",
       "  <tr>\n",
       "   <td style=\"text-align:right;\"> 1.024782 </td>\n",
       "   <td style=\"text-align:right;\"> 0.4861602 </td>\n",
       "   <td style=\"text-align:right;\"> Cincinnati Reds </td>\n",
       "   <td style=\"text-align:right;\"> 20.70733 </td>\n",
       "   <td style=\"text-align:right;\"> 112.39077 </td>\n",
       "   <td style=\"text-align:right;\"> 77 </td>\n",
       "   <td style=\"text-align:right;\"> 66 </td>\n",
       "   <td style=\"text-align:right;\"> 0.4723926 </td>\n",
       "   <td style=\"text-align:right;\"> 0.4647887 </td>\n",
       "  </tr>\n",
       "</tbody>\n",
       "</table></div>"
      ]
     },
     "metadata": {},
     "output_type": "display_data"
    }
   ],
   "source": [
    "temp <- mlb_raw %>%\n",
    "select(payroll, avgwin, Team.name.2014, p1998, p2014, X1998, X2014, X1998.pct, X2014.pct)\n",
    "print_table(temp)"
   ]
  },
  {
   "cell_type": "markdown",
   "id": "913db033-df96-4981-8fd9-5b6d88468318",
   "metadata": {},
   "source": [
    "<center style=\"font-size: 17px\"><b>Table 1a</b>: Table representing original ML Pay dataset with selected columns</center>"
   ]
  },
  {
   "cell_type": "markdown",
   "id": "3c136a11-3cff-42a4-b4e9-1913f91640ae",
   "metadata": {},
   "source": [
    "Yes, all the columns mentioned above are present, and are consistent with their supposed data type.\n",
    "\n",
    "#### 1.2 Tidy (15 points)\n",
    "The raw data are in a messy format: Some of the column names are hard to interpret, we have data from different years in the same row, and both year-by-year and aggregate data are present.\n",
    "* Tidy the data into two separate tibbles: one called mlb_aggregate containing the aggregate data and another called mlb_yearly containing the year-by-year data. mlb_total should contain columns named team, payroll_aggregate, pct_wins_aggregate and mlb_yearly should contain columns named team, year, payroll, pct_wins, num_wins. Comment your code to explain each step.\n",
    "* Print these two tibbles. How many rows do mlb_aggregate and mlb_yearly contain, and why?\n",
    "\n",
    "**Solution**:"
   ]
  },
  {
   "cell_type": "code",
   "execution_count": 10,
   "id": "8dde81ac-7031-4b37-a3b6-eaf3530c0f2e",
   "metadata": {
    "scrolled": true
   },
   "outputs": [
    {
     "data": {
      "text/html": [
       "<div style='display: flex; justify-content: center;'><table class=\"table table-condensed\">\n",
       " <thead>\n",
       "  <tr>\n",
       "   <th style=\"text-align:right;\"> payroll_avg </th>\n",
       "   <th style=\"text-align:right;\"> avgwin </th>\n",
       "   <th style=\"text-align:right;\"> year </th>\n",
       "   <th style=\"text-align:right;\"> team </th>\n",
       "   <th style=\"text-align:right;\"> payroll </th>\n",
       "   <th style=\"text-align:right;\"> num_wins </th>\n",
       "   <th style=\"text-align:right;\"> pct_wins </th>\n",
       "  </tr>\n",
       " </thead>\n",
       "<tbody>\n",
       "  <tr>\n",
       "   <td style=\"text-align:right;\"> 1.120874 </td>\n",
       "   <td style=\"text-align:right;\"> 0.4902585 </td>\n",
       "   <td style=\"text-align:right;\"> 1998 </td>\n",
       "   <td style=\"text-align:right;\"> Arizona Diamondbacks </td>\n",
       "   <td style=\"text-align:right;\"> 31.61450 </td>\n",
       "   <td style=\"text-align:right;\"> 65 </td>\n",
       "   <td style=\"text-align:right;\"> 0.3987730 </td>\n",
       "  </tr>\n",
       "  <tr>\n",
       "   <td style=\"text-align:right;\"> 1.120874 </td>\n",
       "   <td style=\"text-align:right;\"> 0.4902585 </td>\n",
       "   <td style=\"text-align:right;\"> 1999 </td>\n",
       "   <td style=\"text-align:right;\"> Arizona Diamondbacks </td>\n",
       "   <td style=\"text-align:right;\"> 70.49600 </td>\n",
       "   <td style=\"text-align:right;\"> 100 </td>\n",
       "   <td style=\"text-align:right;\"> 0.6134969 </td>\n",
       "  </tr>\n",
       "  <tr>\n",
       "   <td style=\"text-align:right;\"> 1.120874 </td>\n",
       "   <td style=\"text-align:right;\"> 0.4902585 </td>\n",
       "   <td style=\"text-align:right;\"> 2000 </td>\n",
       "   <td style=\"text-align:right;\"> Arizona Diamondbacks </td>\n",
       "   <td style=\"text-align:right;\"> 81.02783 </td>\n",
       "   <td style=\"text-align:right;\"> 85 </td>\n",
       "   <td style=\"text-align:right;\"> 0.5246914 </td>\n",
       "  </tr>\n",
       "  <tr>\n",
       "   <td style=\"text-align:right;\"> 1.120874 </td>\n",
       "   <td style=\"text-align:right;\"> 0.4902585 </td>\n",
       "   <td style=\"text-align:right;\"> 2001 </td>\n",
       "   <td style=\"text-align:right;\"> Arizona Diamondbacks </td>\n",
       "   <td style=\"text-align:right;\"> 81.20651 </td>\n",
       "   <td style=\"text-align:right;\"> 92 </td>\n",
       "   <td style=\"text-align:right;\"> 0.5679012 </td>\n",
       "  </tr>\n",
       "  <tr>\n",
       "   <td style=\"text-align:right;\"> 1.120874 </td>\n",
       "   <td style=\"text-align:right;\"> 0.4902585 </td>\n",
       "   <td style=\"text-align:right;\"> 2002 </td>\n",
       "   <td style=\"text-align:right;\"> Arizona Diamondbacks </td>\n",
       "   <td style=\"text-align:right;\"> 102.82000 </td>\n",
       "   <td style=\"text-align:right;\"> 98 </td>\n",
       "   <td style=\"text-align:right;\"> 0.6049383 </td>\n",
       "  </tr>\n",
       "  <tr>\n",
       "   <td style=\"text-align:right;\"> 1.120874 </td>\n",
       "   <td style=\"text-align:right;\"> 0.4902585 </td>\n",
       "   <td style=\"text-align:right;\"> 2003 </td>\n",
       "   <td style=\"text-align:right;\"> Arizona Diamondbacks </td>\n",
       "   <td style=\"text-align:right;\"> 80.64033 </td>\n",
       "   <td style=\"text-align:right;\"> 84 </td>\n",
       "   <td style=\"text-align:right;\"> 0.5185185 </td>\n",
       "  </tr>\n",
       "  <tr>\n",
       "   <td style=\"text-align:right;\"> 1.120874 </td>\n",
       "   <td style=\"text-align:right;\"> 0.4902585 </td>\n",
       "   <td style=\"text-align:right;\"> 2004 </td>\n",
       "   <td style=\"text-align:right;\"> Arizona Diamondbacks </td>\n",
       "   <td style=\"text-align:right;\"> 70.20498 </td>\n",
       "   <td style=\"text-align:right;\"> 51 </td>\n",
       "   <td style=\"text-align:right;\"> 0.3148148 </td>\n",
       "  </tr>\n",
       "</tbody>\n",
       "</table></div>"
      ]
     },
     "metadata": {},
     "output_type": "display_data"
    }
   ],
   "source": [
    "mlb_tidy <- mlb_raw %>%\n",
    "    pivot_longer(colnames(mlb_raw[,4:ncol(mlb_raw)])) %>%\n",
    "    mutate(year = as.numeric(gsub(\"\\\\D\", \"\", name)), var = gsub(\"[[:digit:]]+\", \"\", name), team=Team.name.2014) %>%\n",
    "    select(-c(\"name\", \"Team.name.2014\")) %>%\n",
    "    pivot_wider(names_from = var, values_from = value) %>%\n",
    "    rename(payroll_avg = payroll, payroll = p, pct_wins = X.pct, num_wins=X)\n",
    "print_table(mlb_tidy)"
   ]
  },
  {
   "cell_type": "markdown",
   "id": "d8e4648d-33c0-47e3-9618-48b72ebddf17",
   "metadata": {},
   "source": [
    "<center style=\"font-size: 17px\"><b>Table 2</b>: Tidy Version of <i>Table 1</i></center>"
   ]
  },
  {
   "cell_type": "markdown",
   "id": "f02155fb-7c2f-4df0-b9ef-20f1439135b9",
   "metadata": {},
   "source": [
    "The data was cleaned first by applying *pivot longer* function for all the 4th columns and beyond. Then the years are separated in their own variable, named `year` column. For example, a row that has \"p2008\" was separated so that \"p\" and \"2008\" are in its own column. Then the result was pivotted wider based on the `var` where \"p\", \"x\", \"X.pct\" was located. Finally, the variables was renamed for the sake of interpretability."
   ]
  },
  {
   "cell_type": "code",
   "execution_count": 12,
   "id": "28115043-5c77-4209-b6fb-282572586339",
   "metadata": {},
   "outputs": [
    {
     "data": {
      "text/html": [
       "<div style='display: flex; justify-content: center;'><table class=\"table table-condensed\">\n",
       " <thead>\n",
       "  <tr>\n",
       "   <th style=\"text-align:right;\"> team </th>\n",
       "   <th style=\"text-align:right;\"> payroll_aggregate </th>\n",
       "   <th style=\"text-align:right;\"> pct_wins_aggregate </th>\n",
       "  </tr>\n",
       " </thead>\n",
       "<tbody>\n",
       "  <tr>\n",
       "   <td style=\"text-align:right;\"> Arizona Diamondbacks </td>\n",
       "   <td style=\"text-align:right;\"> 71.94024 </td>\n",
       "   <td style=\"text-align:right;\"> 0.4921264 </td>\n",
       "  </tr>\n",
       "  <tr>\n",
       "   <td style=\"text-align:right;\"> Atlanta Braves </td>\n",
       "   <td style=\"text-align:right;\"> 89.31234 </td>\n",
       "   <td style=\"text-align:right;\"> 0.5631539 </td>\n",
       "  </tr>\n",
       "  <tr>\n",
       "   <td style=\"text-align:right;\"> Baltimore Orioles </td>\n",
       "   <td style=\"text-align:right;\"> 76.78065 </td>\n",
       "   <td style=\"text-align:right;\"> 0.4570920 </td>\n",
       "  </tr>\n",
       "  <tr>\n",
       "   <td style=\"text-align:right;\"> Boston Red Sox </td>\n",
       "   <td style=\"text-align:right;\"> 123.74004 </td>\n",
       "   <td style=\"text-align:right;\"> 0.5512860 </td>\n",
       "  </tr>\n",
       "  <tr>\n",
       "   <td style=\"text-align:right;\"> Chicago Cubs </td>\n",
       "   <td style=\"text-align:right;\"> 91.27798 </td>\n",
       "   <td style=\"text-align:right;\"> 0.4745898 </td>\n",
       "  </tr>\n",
       "  <tr>\n",
       "   <td style=\"text-align:right;\"> Chicago White Sox </td>\n",
       "   <td style=\"text-align:right;\"> 80.88858 </td>\n",
       "   <td style=\"text-align:right;\"> 0.5069221 </td>\n",
       "  </tr>\n",
       "  <tr>\n",
       "   <td style=\"text-align:right;\"> Cincinnati Reds </td>\n",
       "   <td style=\"text-align:right;\"> 65.80984 </td>\n",
       "   <td style=\"text-align:right;\"> 0.4913973 </td>\n",
       "  </tr>\n",
       "</tbody>\n",
       "</table></div>"
      ]
     },
     "metadata": {},
     "output_type": "display_data"
    }
   ],
   "source": [
    "mlb_total <- mlb_tidy %>%\n",
    "    group_by(team) %>%\n",
    "    summarise(payroll_aggregate = mean(payroll), pct_wins_aggregate=mean(pct_wins)) %>%\n",
    "    select(c(\"team\", \"payroll_aggregate\", \"pct_wins_aggregate\"))\n",
    "print_table(mlb_total)"
   ]
  },
  {
   "cell_type": "markdown",
   "id": "b2e9353c-71e0-4e6c-beac-1cfa5900174d",
   "metadata": {},
   "source": [
    "<center style=\"font-size: 17px\"><b>Table 2a</b>: Aggregated version of ML Pay by mean <i>payroll</i> and <i>pct_wins</i></center>"
   ]
  },
  {
   "cell_type": "code",
   "execution_count": 14,
   "id": "5eb03eb4-eca9-4008-ad81-9f8870151055",
   "metadata": {},
   "outputs": [
    {
     "name": "stdout",
     "output_type": "stream",
     "text": [
      "[1] \"Rows:  30\"\n",
      "[1] \"Columns:  3\"\n"
     ]
    }
   ],
   "source": [
    "print(paste(\"Rows: \", nrow(mlb_total)))\n",
    "print(paste(\"Columns: \", ncol(mlb_total)))"
   ]
  },
  {
   "cell_type": "code",
   "execution_count": 16,
   "id": "fbcb3420-32ea-475c-8847-434a559506f7",
   "metadata": {},
   "outputs": [
    {
     "data": {
      "text/html": [
       "<div style='display: flex; justify-content: center;'><table class=\"table table-condensed\">\n",
       " <thead>\n",
       "  <tr>\n",
       "   <th style=\"text-align:right;\"> team </th>\n",
       "   <th style=\"text-align:right;\"> year </th>\n",
       "   <th style=\"text-align:right;\"> payroll </th>\n",
       "   <th style=\"text-align:right;\"> pct_wins </th>\n",
       "   <th style=\"text-align:right;\"> num_wins </th>\n",
       "  </tr>\n",
       " </thead>\n",
       "<tbody>\n",
       "  <tr>\n",
       "   <td style=\"text-align:right;\"> Arizona Diamondbacks </td>\n",
       "   <td style=\"text-align:right;\"> 1998 </td>\n",
       "   <td style=\"text-align:right;\"> 31.61450 </td>\n",
       "   <td style=\"text-align:right;\"> 0.3987730 </td>\n",
       "   <td style=\"text-align:right;\"> 65 </td>\n",
       "  </tr>\n",
       "  <tr>\n",
       "   <td style=\"text-align:right;\"> Arizona Diamondbacks </td>\n",
       "   <td style=\"text-align:right;\"> 1999 </td>\n",
       "   <td style=\"text-align:right;\"> 70.49600 </td>\n",
       "   <td style=\"text-align:right;\"> 0.6134969 </td>\n",
       "   <td style=\"text-align:right;\"> 100 </td>\n",
       "  </tr>\n",
       "  <tr>\n",
       "   <td style=\"text-align:right;\"> Arizona Diamondbacks </td>\n",
       "   <td style=\"text-align:right;\"> 2000 </td>\n",
       "   <td style=\"text-align:right;\"> 81.02783 </td>\n",
       "   <td style=\"text-align:right;\"> 0.5246914 </td>\n",
       "   <td style=\"text-align:right;\"> 85 </td>\n",
       "  </tr>\n",
       "  <tr>\n",
       "   <td style=\"text-align:right;\"> Arizona Diamondbacks </td>\n",
       "   <td style=\"text-align:right;\"> 2001 </td>\n",
       "   <td style=\"text-align:right;\"> 81.20651 </td>\n",
       "   <td style=\"text-align:right;\"> 0.5679012 </td>\n",
       "   <td style=\"text-align:right;\"> 92 </td>\n",
       "  </tr>\n",
       "  <tr>\n",
       "   <td style=\"text-align:right;\"> Arizona Diamondbacks </td>\n",
       "   <td style=\"text-align:right;\"> 2002 </td>\n",
       "   <td style=\"text-align:right;\"> 102.82000 </td>\n",
       "   <td style=\"text-align:right;\"> 0.6049383 </td>\n",
       "   <td style=\"text-align:right;\"> 98 </td>\n",
       "  </tr>\n",
       "  <tr>\n",
       "   <td style=\"text-align:right;\"> Arizona Diamondbacks </td>\n",
       "   <td style=\"text-align:right;\"> 2003 </td>\n",
       "   <td style=\"text-align:right;\"> 80.64033 </td>\n",
       "   <td style=\"text-align:right;\"> 0.5185185 </td>\n",
       "   <td style=\"text-align:right;\"> 84 </td>\n",
       "  </tr>\n",
       "  <tr>\n",
       "   <td style=\"text-align:right;\"> Arizona Diamondbacks </td>\n",
       "   <td style=\"text-align:right;\"> 2004 </td>\n",
       "   <td style=\"text-align:right;\"> 70.20498 </td>\n",
       "   <td style=\"text-align:right;\"> 0.3148148 </td>\n",
       "   <td style=\"text-align:right;\"> 51 </td>\n",
       "  </tr>\n",
       "</tbody>\n",
       "</table></div>"
      ]
     },
     "metadata": {},
     "output_type": "display_data"
    }
   ],
   "source": [
    "mlb_yearly <- mlb_tidy %>%\n",
    "    select(c(\"team\", \"year\", \"payroll\",\"pct_wins\", \"num_wins\"))\n",
    "print_table(mlb_yearly)"
   ]
  },
  {
   "cell_type": "markdown",
   "id": "c0bad9d5-b876-4295-926b-7974cf873421",
   "metadata": {},
   "source": [
    "<center style=\"font-size: 17px\"><b>Table 2c</b>: Yearly payroll and win percentage of each team</center>"
   ]
  },
  {
   "cell_type": "code",
   "execution_count": 18,
   "id": "877ae018-df83-4d54-8598-e67e9aaba4d9",
   "metadata": {},
   "outputs": [
    {
     "name": "stdout",
     "output_type": "stream",
     "text": [
      "[1] \"Rows:  510\"\n",
      "[1] \"Columns:  5\"\n"
     ]
    }
   ],
   "source": [
    "print(paste(\"Rows: \", nrow(mlb_yearly)))\n",
    "print(paste(\"Columns: \", ncol(mlb_yearly)))"
   ]
  },
  {
   "cell_type": "markdown",
   "id": "a306c8e6-88fe-4bbf-9e59-f3aa7e8ec166",
   "metadata": {},
   "source": [
    "### 1.3 Quality control (15 points)\n",
    "\n",
    "It’s always a good idea to check whether a dataset is internally consistent. In this case, we are given both aggregated\n",
    "and yearly data, so we can check whether these match. To this end, carry out the following steps:\n",
    "* Create a new tibble called mlb_aggregate_computed based on aggregating the data in mlb_yearly, containing columns named team, payroll_aggregate_computed, and pct_wins_aggregate_computed.\n",
    "* Ideally, mlb_aggregate_computed would match mlb_aggregate. To check whether this is the case, join these two tibbles into mlb_aggregate_joined (which should have five columns: team, payroll_aggregate, pct_wins_aggregate, payroll_aggregate_computed, and pct_wins_aggregate_computed.)\n",
    "* Create scatter plots of payroll_aggregate_computed versus payroll_aggregate and pct_wins_aggregate_computed versus pct_wins_aggregate, including a 45◦ line in each. Display these scatter plots side by side, and comment on the relationship between the computed and provided aggregate statistics."
   ]
  },
  {
   "cell_type": "code",
   "execution_count": 20,
   "id": "1ab10181-2914-428d-adec-680cdb8fc649",
   "metadata": {},
   "outputs": [
    {
     "data": {
      "text/html": [
       "<div style='display: flex; justify-content: center;'><table class=\"table table-condensed\">\n",
       " <thead>\n",
       "  <tr>\n",
       "   <th style=\"text-align:right;\"> team </th>\n",
       "   <th style=\"text-align:right;\"> payroll_aggregate_computed </th>\n",
       "   <th style=\"text-align:right;\"> pct_wins_aggregate_computed </th>\n",
       "  </tr>\n",
       " </thead>\n",
       "<tbody>\n",
       "  <tr>\n",
       "   <td style=\"text-align:right;\"> Arizona Diamondbacks </td>\n",
       "   <td style=\"text-align:right;\"> 71.94024 </td>\n",
       "   <td style=\"text-align:right;\"> 0.4921264 </td>\n",
       "  </tr>\n",
       "  <tr>\n",
       "   <td style=\"text-align:right;\"> Atlanta Braves </td>\n",
       "   <td style=\"text-align:right;\"> 89.31234 </td>\n",
       "   <td style=\"text-align:right;\"> 0.5631539 </td>\n",
       "  </tr>\n",
       "  <tr>\n",
       "   <td style=\"text-align:right;\"> Baltimore Orioles </td>\n",
       "   <td style=\"text-align:right;\"> 76.78065 </td>\n",
       "   <td style=\"text-align:right;\"> 0.4570920 </td>\n",
       "  </tr>\n",
       "  <tr>\n",
       "   <td style=\"text-align:right;\"> Boston Red Sox </td>\n",
       "   <td style=\"text-align:right;\"> 123.74004 </td>\n",
       "   <td style=\"text-align:right;\"> 0.5512860 </td>\n",
       "  </tr>\n",
       "  <tr>\n",
       "   <td style=\"text-align:right;\"> Chicago Cubs </td>\n",
       "   <td style=\"text-align:right;\"> 91.27798 </td>\n",
       "   <td style=\"text-align:right;\"> 0.4745898 </td>\n",
       "  </tr>\n",
       "  <tr>\n",
       "   <td style=\"text-align:right;\"> Chicago White Sox </td>\n",
       "   <td style=\"text-align:right;\"> 80.88858 </td>\n",
       "   <td style=\"text-align:right;\"> 0.5069221 </td>\n",
       "  </tr>\n",
       "  <tr>\n",
       "   <td style=\"text-align:right;\"> Cincinnati Reds </td>\n",
       "   <td style=\"text-align:right;\"> 65.80984 </td>\n",
       "   <td style=\"text-align:right;\"> 0.4913973 </td>\n",
       "  </tr>\n",
       "</tbody>\n",
       "</table></div>"
      ]
     },
     "metadata": {},
     "output_type": "display_data"
    }
   ],
   "source": [
    "mlb_aggregate_computed <- mlb_yearly %>%\n",
    "    group_by(team) %>%\n",
    "    summarise(payroll_aggregate_computed = mean(payroll), pct_wins_aggregate_computed=mean(pct_wins))\n",
    "print_table(mlb_aggregate_computed)"
   ]
  },
  {
   "cell_type": "markdown",
   "id": "f1c3bf26-50d4-4805-9b11-8f59f677a5f1",
   "metadata": {},
   "source": [
    "<center style=\"font-size: 17px\"><b>Table 2c.1</b>: Aggregated version of <i>Table 2c</i> by mean <i>payroll</i> and <i>pct_wins</i></center>"
   ]
  },
  {
   "cell_type": "code",
   "execution_count": 22,
   "id": "aa646911-7f31-4b0a-9825-de92777120a9",
   "metadata": {},
   "outputs": [],
   "source": [
    "combined <- merge(mlb_total, mlb_aggregate_computed, by.x = \"team\", by.y = \"team\")"
   ]
  },
  {
   "cell_type": "code",
   "execution_count": 76,
   "id": "74c98f30-d3b2-4336-95a6-ef5a0ea8bb1a",
   "metadata": {},
   "outputs": [],
   "source": [
    "print_plot <- function(filename, size=900){\n",
    "    html_code <- paste0(\n",
    "      \"<div style='display: flex; justify-content: center;'>\n",
    "          <img src='\", filename, \"' width='\",size,\"px' style='margin: auto;'>\n",
    "       </div>\"\n",
    "    )\n",
    "    display_html(html_code)\n",
    "}"
   ]
  },
  {
   "cell_type": "code",
   "execution_count": 220,
   "id": "4e756214-5bad-4fc4-a1db-fcddbd10b990",
   "metadata": {},
   "outputs": [
    {
     "data": {
      "text/html": [
       "<div style='display: flex; justify-content: center;'>\n",
       "          <img src='fig1.png' width='900px' style='margin: auto;'>\n",
       "       </div>"
      ]
     },
     "metadata": {},
     "output_type": "display_data"
    }
   ],
   "source": [
    "options(repr.plot.width = 15, repr.plot.height = 8)\n",
    "\n",
    "p <- ggplot(combined, aes(x=payroll_aggregate_computed, y=payroll_aggregate)) +\n",
    "geom_point(size = 3, color = \"#0072B2\", alpha = 0.7) + \n",
    "geom_smooth(method = \"lm\", formula = y ~ x,color = \"red\", linetype = \"dashed\", se = FALSE, aes(color = \"Regression Line (45°)\")) +\n",
    "ggtitle(\"Payroll Aggregate Computed vs Payroll Aggregate\") +\n",
    "xlab(\"Payroll Computed [millions]\") +\n",
    "ylab(\"Payroll Actual [millions]\") +\n",
    "scale_color_manual(name = \"Legend\", values = c(\"Regression Line (45°)\" = \"red\")) +\n",
    "theme_grey() +\n",
    "theme(\n",
    "    plot.title = element_text(size = 22, face = \"bold\", hjust = 0.5), \n",
    "    axis.title = element_text(size = 18, face = \"bold\"),\n",
    "    axis.title.x = element_text(margin = margin(t = 10)),\n",
    "    axis.title.y = element_text(margin = margin(r = 15)),\n",
    "    axis.text = element_text(size = 14),\n",
    "    legend.title = element_text(size = 16, face = \"bold\"),\n",
    "    legend.text = element_text(size = 14),\n",
    "    legend.position = \"bottom\",\n",
    "    panel.grid.major = element_line(color = \"grey80\"), \n",
    "    panel.grid.minor = element_blank()\n",
    "  )\n",
    "filename = \"fig1.png\"\n",
    "ggsave(filename, p, width=15, height = 8)\n",
    "print_plot(filename)"
   ]
  },
  {
   "cell_type": "markdown",
   "id": "dbde306e-96d6-4952-a8bd-55baf7d86710",
   "metadata": {},
   "source": [
    "<center style=\"font-size: 17px\"><b>Figure 1</b>: Scatter plot of `payroll` from <i>Table 2a</i> and <i>Table 2c.1</i> with Simple Regression Line (Red)  Fitted</center>"
   ]
  },
  {
   "cell_type": "code",
   "execution_count": 222,
   "id": "f0dc1523-d15e-4f54-9de9-3e27c78b7874",
   "metadata": {},
   "outputs": [
    {
     "data": {
      "text/html": [
       "<div style='display: flex; justify-content: center;'>\n",
       "          <img src='fig2.png' width='900px' style='margin: auto;'>\n",
       "       </div>"
      ]
     },
     "metadata": {},
     "output_type": "display_data"
    }
   ],
   "source": [
    "p <- ggplot(combined, aes(x = pct_wins_aggregate_computed, y = pct_wins_aggregate)) +\n",
    "    geom_point(size = 3, color = \"#0072B2\", alpha = 0.7) + \n",
    "    geom_smooth(method = \"lm\", formula = y ~ x, linetype = \"dashed\", se = FALSE, aes(color = \"Regression Line (45°)\")) +\n",
    "    ggtitle(\"PCT Wins Computed vs PCT Wins Aggregate\") +\n",
    "    xlab(\"PCT Wins Computed\") +\n",
    "    ylab(\"PCT Wins Actual\") +\n",
    "    scale_color_manual(name = \"Legend\", values = c(\"Regression Line (45°)\" = \"red\")) +\n",
    "    theme_grey() +\n",
    "    theme(\n",
    "        plot.title = element_text(size = 22, face = \"bold\", hjust = 0.5), \n",
    "        axis.title = element_text(size = 18, face = \"bold\"),\n",
    "        axis.title.x = element_text(margin = margin(t = 10)),\n",
    "        axis.title.y = element_text(margin = margin(r = 15)),\n",
    "        axis.text = element_text(size = 14),\n",
    "        legend.title = element_text(size = 16, face = \"bold\"),\n",
    "        legend.text = element_text(size = 14),\n",
    "        legend.position = \"bottom\",\n",
    "        panel.grid.major = element_line(color = \"grey80\"), \n",
    "        panel.grid.minor = element_blank()\n",
    "    )\n",
    "filename = \"fig2.png\"\n",
    "ggsave(filename, p, width=15, height = 8)\n",
    "print_plot(filename)"
   ]
  },
  {
   "cell_type": "markdown",
   "id": "21418ee8-8890-4998-876e-0ab9bf92103a",
   "metadata": {},
   "source": [
    "<center style=\"font-size: 17px\"><b>Figure 2</b>: Scatter plot of `pct_wins` from <i>Table 2a</i> and <i>Table 2c.1 with Simple Regression Line (Red)  Fitted</i></center>"
   ]
  },
  {
   "attachments": {},
   "cell_type": "markdown",
   "id": "7b3772ab-d946-4af1-b7d3-43e6ee845d55",
   "metadata": {},
   "source": [
    "Since all points in **Figure 1** and **Figure 2** aligns in the *45° line*, it becomes clear the values aggregated of `payroll` and `pct_wins` from original data (**Table 2a**) and yearly data (**Table 2c.1**) are consistent/identical. This is a great indicator that there occur no error in the computation of both dataset."
   ]
  },
  {
   "cell_type": "markdown",
   "id": "98792272-c7de-45ce-bc90-ea8b7a8df292",
   "metadata": {},
   "source": [
    "### 2 Explore (50 points for correctness; 10 points for presentation)\n",
    "Now that the data are in tidy format, we can explore them by producing visualizations and summary statistics.\n",
    "#### 2.1 Payroll across years (15 points)\n",
    "* Plot payroll as a function of year for each of the 30 teams, faceting the plot by team and adding a red dashed horizontal line for the mean payroll across years of each team.\n",
    "* Using dplyr, identify the three teams with the greatest payroll_aggregate_computed, and print a table of these teams and their payroll_aggregate_computed.\n",
    "* Using dplyr, identify the three teams with the greatest percentage increase in payroll from 1998 to 2014 (call it pct_increase), and print a table of these teams along with pct_increase as well as their payroll figures from 1998 and 2014.\n",
    "* How are the metrics payroll_aggregate_computed and pct_increase reflected in the plot above, and how can we see that the two sets of teams identified above are the top three in terms of these metrics?\n"
   ]
  },
  {
   "cell_type": "code",
   "execution_count": 80,
   "id": "84b1f085-8da8-44e1-9ed0-853eb68435c7",
   "metadata": {
    "scrolled": true
   },
   "outputs": [
    {
     "data": {
      "text/html": [
       "<div style='display: flex; justify-content: center;'>\n",
       "          <img src='fig3.png' width='1000px' style='margin: auto;'>\n",
       "       </div>"
      ]
     },
     "metadata": {},
     "output_type": "display_data"
    }
   ],
   "source": [
    "options(repr.plot.width = 20, repr.plot.height = 15)\n",
    "\n",
    "\n",
    "team_means <- mlb_yearly %>%\n",
    "  group_by(team) %>%\n",
    "  summarise(mean_payroll = mean(payroll, na.rm = TRUE))\n",
    "\n",
    "p <- ggplot(mlb_yearly, aes(x = year, y = payroll, color = team)) +\n",
    "    geom_point() + \n",
    "    geom_hline(data = team_means, aes(yintercept = mean_payroll), color = \"red\", linetype='dashed') +\n",
    "    facet_wrap(~team) +\n",
    "    ggtitle(\"Payroll [millions] Across Years (Faceted by Team)\") +\n",
    "    theme_grey() + \n",
    "    theme(legend.position=\"none\", \n",
    "         plot.title = element_text(size = 22, face = \"bold\", hjust = 0.5),\n",
    "         strip.text = element_text(size = 16, face = \"bold\"))\n",
    "filename = \"fig3.png\"\n",
    "ggsave(filename, p, width=15, height = 8)\n",
    "print_plot(filename, size = 1000)"
   ]
  },
  {
   "cell_type": "markdown",
   "id": "6a1b35a5-ace8-4609-bc05-5fe140897d2b",
   "metadata": {},
   "source": [
    "<center style=\"font-size: 17px\"><b>Figure 3</b>: Scatter plot of `payroll` from <i>Table 2c</i> with with horizontal line (red dashed line) indicating the average `payroll` for each respective team</i></center>"
   ]
  },
  {
   "cell_type": "code",
   "execution_count": 62,
   "id": "6b7a0774-6920-4667-948b-96f8731b9923",
   "metadata": {},
   "outputs": [
    {
     "data": {
      "text/html": [
       "<div style='display: flex; justify-content: center;'><table class=\"table table-condensed\">\n",
       " <thead>\n",
       "  <tr>\n",
       "   <th style=\"text-align:right;\"> team </th>\n",
       "   <th style=\"text-align:right;\"> payroll_aggregate_computed </th>\n",
       "  </tr>\n",
       " </thead>\n",
       "<tbody>\n",
       "  <tr>\n",
       "   <td style=\"text-align:right;\"> New York Yankees </td>\n",
       "   <td style=\"text-align:right;\"> 168.0643 </td>\n",
       "  </tr>\n",
       "  <tr>\n",
       "   <td style=\"text-align:right;\"> Boston Red Sox </td>\n",
       "   <td style=\"text-align:right;\"> 123.7400 </td>\n",
       "  </tr>\n",
       "  <tr>\n",
       "   <td style=\"text-align:right;\"> Los Angeles Dodgers </td>\n",
       "   <td style=\"text-align:right;\"> 110.2467 </td>\n",
       "  </tr>\n",
       "</tbody>\n",
       "</table></div>"
      ]
     },
     "metadata": {},
     "output_type": "display_data"
    }
   ],
   "source": [
    "tib <- mlb_aggregate_computed %>%\n",
    "    arrange(desc(payroll_aggregate_computed)) %>%\n",
    "    select(team,payroll_aggregate_computed) %>%\n",
    "    head(3)\n",
    "print_table(tib)"
   ]
  },
  {
   "cell_type": "markdown",
   "id": "ddc3ffb7-5fc5-4615-80f1-1e9f2b15713c",
   "metadata": {},
   "source": [
    "<center style=\"font-size: 17px\"><b>Table 3a</b>: Top 3 Teams with highest `payroll`</center>"
   ]
  },
  {
   "cell_type": "code",
   "execution_count": 64,
   "id": "1357decf-8c1e-4f86-af77-cc717a2f6c15",
   "metadata": {},
   "outputs": [
    {
     "data": {
      "text/html": [
       "<div style='display: flex; justify-content: center;'><table class=\"table table-condensed\">\n",
       " <thead>\n",
       "  <tr>\n",
       "   <th style=\"text-align:right;\"> team </th>\n",
       "   <th style=\"text-align:right;\"> payroll_1998 </th>\n",
       "   <th style=\"text-align:right;\"> payroll_2014 </th>\n",
       "   <th style=\"text-align:right;\"> pct_increase </th>\n",
       "  </tr>\n",
       " </thead>\n",
       "<tbody>\n",
       "  <tr>\n",
       "   <td style=\"text-align:right;\"> Washington Nationals </td>\n",
       "   <td style=\"text-align:right;\"> 8.3170 </td>\n",
       "   <td style=\"text-align:right;\"> 134.7044 </td>\n",
       "   <td style=\"text-align:right;\"> 1519.6277 </td>\n",
       "  </tr>\n",
       "  <tr>\n",
       "   <td style=\"text-align:right;\"> Detroit Tigers </td>\n",
       "   <td style=\"text-align:right;\"> 19.2375 </td>\n",
       "   <td style=\"text-align:right;\"> 162.2285 </td>\n",
       "   <td style=\"text-align:right;\"> 743.2932 </td>\n",
       "  </tr>\n",
       "  <tr>\n",
       "   <td style=\"text-align:right;\"> Philadelphia Phillies </td>\n",
       "   <td style=\"text-align:right;\"> 28.6225 </td>\n",
       "   <td style=\"text-align:right;\"> 180.0527 </td>\n",
       "   <td style=\"text-align:right;\"> 529.0601 </td>\n",
       "  </tr>\n",
       "</tbody>\n",
       "</table></div>"
      ]
     },
     "metadata": {},
     "output_type": "display_data"
    }
   ],
   "source": [
    "tib <- mlb_yearly %>%\n",
    "    filter(year %in% c(1998, 2014)) %>%\n",
    "    select(team, year, payroll) %>%\n",
    "    pivot_wider(names_from = year, values_from = payroll, names_prefix = \"payroll_\") %>%\n",
    "    mutate(pct_increase = ((payroll_2014 - payroll_1998) / payroll_1998)*100) %>%\n",
    "    arrange(desc(pct_increase)) %>%\n",
    "    head(3)\n",
    "print_table(tib)"
   ]
  },
  {
   "cell_type": "markdown",
   "id": "9525f768-a9eb-47ff-903e-490e874eb12b",
   "metadata": {},
   "source": [
    "<center style=\"font-size: 17px\"><b>Table 3b</b>: Top 3 Teams with highest `pct_increase` in `payroll` from 1998-2014</center>\n",
    "\n",
    "Note that `pct_increase` is calculated as\n",
    "$$\n",
    "payroll\\_pct\\_increase = \\frac{payroll_{2014} - payroll_{1998}}{ payroll_{1998}} \\times 100\n",
    "$$"
   ]
  },
  {
   "cell_type": "markdown",
   "id": "2778e772-8058-40e9-8a37-3a9af5c96beb",
   "metadata": {},
   "source": [
    "##### How are the metrics payroll_aggregate_computed and pct_increase reflected in the plot above, and how can we see that the two sets of teams identified above are the top three in terms of these metrics?\n",
    "\n",
    "**Table 3a** shows the top 3 teams with highest `payroll` through the 17 year stretch. These 3 teams—*New York Yankees*, *Boston Red Sox* and *Los Angeles Dodgers*—could be glaringly distinguished from the rest of the teams in **Figure 3** by looking at the teams that have the highest *average horizontal line* (red dashed line).\n",
    "\n",
    "On the other hand, **Table 3b** shows the top 3 teams with highest `payroll percentage increase` through the 17 year stretch. These 3 teams—*Washington Nationals*, *Detroit Tigers* and *Philadelphia Phillies*—are the three teams experienced the most significant relative payroll growth. They could be distinguished in **Figure 3** by looking at the team that have the highest difference (dispersion) between left most data point (1998) and right most data point (2014)."
   ]
  },
  {
   "cell_type": "markdown",
   "id": "2eead9a7-9535-4e9c-9078-92de5dd7c82c",
   "metadata": {},
   "source": [
    "#### 2.2 Win percentage across years (15 points)\n",
    "* Plot pct_wins as a function of year for each of the 30 teams, faceting the plot by team and adding a red dashed horizontal line for the average pct_wins across years of each team.\n",
    "* Using dplyr, identify the three teams with the greatest pct_wins_aggregate_computed and print a table of these teams along with pct_wins_aggregate_computed.\n",
    "* Using dplyr, identify the three teams with the most erratic pct_wins across years (as measured by the standard deviation, call it pct_wins_sd) and print a table of these teams along with pct_wins_sd.\n",
    "* How are the metrics pct_wins_aggregate_computed and pct_wins_sd reflected in the plot above, and how can we see that the two sets of teams identified above are the top three in terms of these metrics?"
   ]
  },
  {
   "cell_type": "code",
   "execution_count": 100,
   "id": "4cdd10d9-d4cd-4af9-b079-a2aa9f015049",
   "metadata": {},
   "outputs": [
    {
     "data": {
      "text/html": [
       "<div style='display: flex; justify-content: center;'>\n",
       "          <img src='fig4.png' width='1000px' style='margin: auto;'>\n",
       "       </div>"
      ]
     },
     "metadata": {},
     "output_type": "display_data"
    }
   ],
   "source": [
    "options(repr.plot.width = 20, repr.plot.height = 15)\n",
    "\n",
    "\n",
    "team_means <- mlb_yearly %>%\n",
    "  group_by(team) %>%\n",
    "  summarise(mean_pct_win = mean(pct_wins, na.rm = TRUE))\n",
    "\n",
    "p <- ggplot(mlb_yearly, aes(x = year, y = pct_wins, color = team)) +\n",
    "    geom_point() + \n",
    "    geom_hline(data = team_means, aes(yintercept = mean_pct_win), color = \"red\", linetype='dashed') +\n",
    "    facet_wrap(~team) +\n",
    "    ggtitle(\"Win Percentage Across Years (Faceted by Team)\") +\n",
    "    theme_grey() + \n",
    "    theme(legend.position=\"none\", \n",
    "         plot.title = element_text(size = 22, face = \"bold\", hjust = 0.5),\n",
    "         strip.text = element_text(size = 16, face = \"bold\"))\n",
    "filename = \"fig4.png\"\n",
    "ggsave(filename, p, width=15, height = 8)\n",
    "print_plot(filename, size = 1000)"
   ]
  },
  {
   "cell_type": "markdown",
   "id": "e47960be-1300-483b-8659-af8dbf36ce39",
   "metadata": {},
   "source": [
    "<center style=\"font-size: 17px\"><b>Figure 4</b>: Scatter plot of `pct_win` from <i>Table 2c</i> with horizontal line (red dashed line) indicating the average `pct_win` for each respective team</i></center>"
   ]
  },
  {
   "cell_type": "code",
   "execution_count": 102,
   "id": "61652ef3-d0ae-4810-93e7-c614c6d7fcf9",
   "metadata": {},
   "outputs": [
    {
     "data": {
      "text/html": [
       "<div style='display: flex; justify-content: center;'><table class=\"table table-condensed\">\n",
       " <thead>\n",
       "  <tr>\n",
       "   <th style=\"text-align:right;\"> team </th>\n",
       "   <th style=\"text-align:right;\"> pct_wins_aggregate_computed </th>\n",
       "  </tr>\n",
       " </thead>\n",
       "<tbody>\n",
       "  <tr>\n",
       "   <td style=\"text-align:right;\"> New York Yankees </td>\n",
       "   <td style=\"text-align:right;\"> 0.5909819 </td>\n",
       "  </tr>\n",
       "  <tr>\n",
       "   <td style=\"text-align:right;\"> Atlanta Braves </td>\n",
       "   <td style=\"text-align:right;\"> 0.5631539 </td>\n",
       "  </tr>\n",
       "  <tr>\n",
       "   <td style=\"text-align:right;\"> Boston Red Sox </td>\n",
       "   <td style=\"text-align:right;\"> 0.5512860 </td>\n",
       "  </tr>\n",
       "</tbody>\n",
       "</table></div>"
      ]
     },
     "metadata": {},
     "output_type": "display_data"
    }
   ],
   "source": [
    "tib <- mlb_aggregate_computed %>%\n",
    "    arrange(desc(pct_wins_aggregate_computed)) %>%\n",
    "    select(team,pct_wins_aggregate_computed) %>%\n",
    "    head(3)\n",
    "print_table(tib)"
   ]
  },
  {
   "cell_type": "markdown",
   "id": "b83892ab-4bb6-48cf-9478-73cfc586b308",
   "metadata": {},
   "source": [
    "<center style=\"font-size: 17px\"><b>Table 4a</b>: Top 3 Teams with highest `pct_wins`</center>"
   ]
  },
  {
   "cell_type": "code",
   "execution_count": 118,
   "id": "295c0fcf-b5d8-4a8d-985d-1eb7a8666363",
   "metadata": {},
   "outputs": [
    {
     "data": {
      "text/html": [
       "<div style='display: flex; justify-content: center;'><table class=\"table table-condensed\">\n",
       " <thead>\n",
       "  <tr>\n",
       "   <th style=\"text-align:right;\"> team </th>\n",
       "   <th style=\"text-align:right;\"> pct_wins_1998 </th>\n",
       "   <th style=\"text-align:right;\"> pct_wins_2014 </th>\n",
       "   <th style=\"text-align:right;\"> pct_increase </th>\n",
       "  </tr>\n",
       " </thead>\n",
       "<tbody>\n",
       "  <tr>\n",
       "   <td style=\"text-align:right;\"> Miami Marlins </td>\n",
       "   <td style=\"text-align:right;\"> 0.3312883 </td>\n",
       "   <td style=\"text-align:right;\"> 0.4788732 </td>\n",
       "   <td style=\"text-align:right;\"> 44.54877 </td>\n",
       "  </tr>\n",
       "  <tr>\n",
       "   <td style=\"text-align:right;\"> Washington Nationals </td>\n",
       "   <td style=\"text-align:right;\"> 0.3987730 </td>\n",
       "   <td style=\"text-align:right;\"> 0.5563380 </td>\n",
       "   <td style=\"text-align:right;\"> 39.51246 </td>\n",
       "  </tr>\n",
       "  <tr>\n",
       "   <td style=\"text-align:right;\"> Detroit Tigers </td>\n",
       "   <td style=\"text-align:right;\"> 0.3987730 </td>\n",
       "   <td style=\"text-align:right;\"> 0.5422535 </td>\n",
       "   <td style=\"text-align:right;\"> 35.98050 </td>\n",
       "  </tr>\n",
       "</tbody>\n",
       "</table></div>"
      ]
     },
     "metadata": {},
     "output_type": "display_data"
    }
   ],
   "source": [
    "tib <- mlb_yearly %>%\n",
    "    filter(year %in% c(1998, 2014)) %>%\n",
    "    select(team, year, pct_wins) %>%\n",
    "    pivot_wider(names_from = year, values_from = pct_wins, names_prefix = \"pct_wins_\") %>%\n",
    "    mutate(pct_increase = ((pct_wins_2014 - pct_wins_1998) / pct_wins_1998)*100) %>%\n",
    "    arrange(desc(pct_increase)) %>%\n",
    "    head(3)\n",
    "print_table(tib)"
   ]
  },
  {
   "cell_type": "markdown",
   "id": "9a6436fb-4a07-4ac2-b12a-a03cc21676da",
   "metadata": {},
   "source": [
    "<center style=\"font-size: 17px\"><b>Table 4b</b>: Top 3 Teams with highest `pct_increase` in `pct_wins` from 1998-2014</center>"
   ]
  },
  {
   "cell_type": "markdown",
   "id": "b71781dc-ec29-4c1d-a059-30df84a81ce3",
   "metadata": {},
   "source": [
    "##### How are the metrics pct_wins_aggregate_computed and pct_wins_sd reflected in the plot above, and how can we see that the two sets of teams identified above are the top three in terms of these metrics?\n",
    "\n",
    "**Table 4a** shows the top 3 MLB teams with highest `pct_wins` or the \"winningest\" through the 17 year stretch. These 3 teams—*New York Yankees*, *Boston Red Sox* and *Los Angeles Dodgers*—are teams that have manage to stay on top of the league troughout the 17 year period. They could be glaringly distinguished from the rest of the teams in **Figure 3** by looking at the teams that have the highest *average horizontal line* (red dashed line). \n",
    "\n",
    "On the other hand, **Table 4b** shows the top 3 teams with highest `winning percentage increase` through the 17 year stretch. These 3 teams—*Miami Marlins*, *Washington Nationals* and *Detroit Tigers*—are the three teams experienced the most significant relative winning growth. They are the team that have manage to achieve the most improvement in terms of winning relative to their winning status during the initial time period. They could be distinguished in **Figure 3** by looking at the team that have the highest difference (dispersion) between left most data point (1998) and right most data point (2014)."
   ]
  },
  {
   "cell_type": "markdown",
   "id": "57d38d8b-655d-4884-8b67-23843f8929ef",
   "metadata": {},
   "source": [
    "#### 2.3 Win percentage versus payroll (15 points)\n",
    "Let us investigate the relationship between win percentage and payroll.\n",
    "* Create a scatter plot of pct_wins versus payroll based on the aggregated data, labeling each point with the team name using geom_text_repel from the ggrepel package and adding the least squares line.\n",
    "* Is the relationship between payroll and pct_wins positive or negative? Is this what you would expect, and why?"
   ]
  },
  {
   "cell_type": "code",
   "execution_count": 158,
   "id": "bebe7700-4dc3-4991-9dcf-0bdd44be6ab2",
   "metadata": {},
   "outputs": [
    {
     "data": {
      "text/html": [
       "<div style='display: flex; justify-content: center;'>\n",
       "          <img src='fig5.png' width='900px' style='margin: auto;'>\n",
       "       </div>"
      ]
     },
     "metadata": {},
     "output_type": "display_data"
    }
   ],
   "source": [
    "options(repr.plot.width = 15, repr.plot.height = 8)\n",
    "\n",
    "y_mean <- median(mlb_aggregate_computed$pct_wins_aggregate_computed, na.rm = TRUE)\n",
    "x_mean <- median(mlb_aggregate_computed$payroll_aggregate_computed, na.rm = TRUE)\n",
    "\n",
    "p <- mlb_aggregate_computed %>%\n",
    "    ggplot(aes(x = payroll_aggregate_computed, y = pct_wins_aggregate_computed, color = team, label = team)) +\n",
    "    geom_vline(aes(xintercept = x_mean, linetype = \"Payroll Median\"), color = \"black\", linewidth = 1, alpha=0.3) +\n",
    "    geom_hline(aes(yintercept = y_mean, linetype = \"Win % Median\"), color = \"black\", linewidth = 1, alpha=0.3) +\n",
    "    scale_linetype_manual(name = \"Quadrant Lines\", values = c(\"Win % Median\" = \"dashed\", \"Payroll Median\" = \"dashed\")) +\n",
    "    geom_text_repel(show.legend = FALSE) +\n",
    "    geom_point(size = 3, show.legend = FALSE) + \n",
    "    ggtitle(\"Win Percentage vs Payroll\") + \n",
    "    ylab(\"Average Win Percentage\") + \n",
    "    xlab(\"Average Payroll [millions]\") + \n",
    "    theme_gray() + \n",
    "    theme(\n",
    "        legend.position = \"top\",\n",
    "        plot.title = element_text(size = 25, hjust = 0.5, face=\"bold\"),\n",
    "        axis.title = element_text(size=20),\n",
    "        axis.title.x = element_text(margin = margin(t = 10)),\n",
    "        axis.title.y = element_text(margin = margin(r = 15))\n",
    "    )\n",
    "filename = \"fig5.png\"\n",
    "ggsave(filename, p, width=15, height = 8)\n",
    "print_plot(filename)"
   ]
  },
  {
   "cell_type": "markdown",
   "id": "8c125787-9722-4f4a-98b3-eb28f06e6a8e",
   "metadata": {},
   "source": [
    "<center style=\"font-size: 17px\"><b>Figure 5</b>: Scatter plot of average `pct_win` vs average `payroll`  from <i>Table 2c</i> divided by 4 quadrants based on median</center>"
   ]
  },
  {
   "attachments": {},
   "cell_type": "markdown",
   "id": "1fd0e7ca-a838-4dda-a804-b297593525cf",
   "metadata": {},
   "source": [
    "**Figure 5** represents where each MLB team lies in terms of `average payroll` as a function of `average winning percentage`. **Figure 5** could divided into four quadrants. \n",
    "\n",
    "The first quadrant (top right), are the teams that have experienced the most winnings but have also spent the most in `payroll`. Also, it is clear that the teams in the first quadrant are the bigger market teams so they could afford to pay for higher payroll and have also experience relative success upon doing do so.\n",
    "\n",
    "The fourth quadrant (bottom right) are not as succesful compared to the first quadrant given that they are some of the teams that have spent more the the rest of the league. This teams under these quadrant can be seen as inefficient for they spent more than the rest of the league but does not achieve the same return of investment as the other teams.\n",
    "\n",
    "The second (top left) and third (bottom left) on the other hand are the more efficient team. For the second quadrant, they are teams that have achieve to be above 50th percentile in terms of winnning despite being below 50th percentile in `payroll`. These are some of the teams the could be seen as a potentitial investment opportunities because they are winning more in spite of spending less. It could also be infer that it's only a matter of time before these teams manage to join other bigger markets. Maybe these teams manage to consistently succeed but wasn't been able to become one of the bigger markets due to miriads of reasons like culture in their state, or the team's marketing department. Of course to confirm this suspision, further investigation is imperative. \n",
    "\n",
    "Lasly, the third quadrants are the teams that have spent less and won less than the 50th percentile of the legue. These are the teams that could be seen as small market teams and shows a lack of success through the 17 year period. Maybe the reason for them being small market teams are the lack winning results.\n",
    "\n",
    "**In terms of relationship**, it is clear there is a positive relationship between `payroll` and `win percentage`. Meaning on average, the team that have spent more money on `payroll` also won more. We could confirm this by calculating for correlation and fitting a simple linear regression line."
   ]
  },
  {
   "cell_type": "code",
   "execution_count": 185,
   "id": "d600e7d8-c10c-48e9-af35-4c4d32dd5d62",
   "metadata": {},
   "outputs": [
    {
     "name": "stdout",
     "output_type": "stream",
     "text": [
      "[1] \"Correlation of `payroll` and `pct_win` : 0.738009593176648\"\n"
     ]
    }
   ],
   "source": [
    "corr <- cor(mlb_aggregate_computed$payroll_aggregate_computed, mlb_aggregate_computed$pct_wins_aggregate_computed)\n",
    "print(paste0(\"Correlation of `payroll` and `pct_win` : \", corr))"
   ]
  },
  {
   "cell_type": "code",
   "execution_count": 224,
   "id": "be4816ed-2be1-4bb2-8611-6f4f27d57839",
   "metadata": {},
   "outputs": [
    {
     "data": {
      "text/html": [
       "<div style='display: flex; justify-content: center;'>\n",
       "          <img src='fig5a.png' width='900px' style='margin: auto;'>\n",
       "       </div>"
      ]
     },
     "metadata": {},
     "output_type": "display_data"
    }
   ],
   "source": [
    "options(warn = -1)\n",
    "options(repr.plot.width = 15, repr.plot.height = 8)\n",
    "\n",
    "y_mean <- median(mlb_aggregate_computed$pct_wins_aggregate_computed, na.rm = TRUE)\n",
    "x_mean <- median(mlb_aggregate_computed$payroll_aggregate_computed, na.rm = TRUE)\n",
    "\n",
    "p <- mlb_aggregate_computed %>%\n",
    "    ggplot(aes(x = payroll_aggregate_computed, y = pct_wins_aggregate_computed, color = team, label = team)) +\n",
    "    geom_vline(aes(xintercept = x_mean, linetype = \"Payroll Median\"), color = \"black\", linewidth = 1, alpha=0.3) +\n",
    "    geom_hline(aes(yintercept = y_mean, linetype = \"Win % Median\"), color = \"black\", linewidth = 1, alpha=0.3) +\n",
    "    scale_linetype_manual(name = \"Quadrant Lines\", values = c(\"Win % Median\" = \"dashed\", \"Payroll Median\" = \"dashed\")) +\n",
    "    geom_text_repel(show.legend = FALSE) +\n",
    "    geom_point(size = 3, show.legend = FALSE) + \n",
    "    geom_smooth(method = \"lm\",  formula = y ~ x,linetype = \"dashed\", se = FALSE, color = \"red\") +\n",
    "    ggtitle(\"Win Percentage vs Payroll\") + \n",
    "    ylab(\"Average Win Percentage\") + \n",
    "    xlab(\"Average Payroll [millions]\") + \n",
    "    theme_gray() + \n",
    "    theme(\n",
    "        legend.position = \"top\",\n",
    "        plot.title = element_text(size = 25, hjust = 0.5, face=\"bold\"),\n",
    "        axis.title = element_text(size=20),\n",
    "        axis.title.x = element_text(margin = margin(t = 10)),\n",
    "        axis.title.y = element_text(margin = margin(r = 15))\n",
    "    )\n",
    "filename = \"fig5a.png\"\n",
    "ggsave(filename, p, width=15, height = 8)\n",
    "print_plot(filename)"
   ]
  },
  {
   "cell_type": "markdown",
   "id": "a6578e40-1826-43c7-881b-ae6d0d3cd3cf",
   "metadata": {},
   "source": [
    "#### 2.4 Team efficiency (5 points)\n",
    "Define a team’s efficiency as the ratio of the aggregate win percentage to the aggregate payroll—more efficient teams are those that win more with less money.\n",
    "\n",
    "* Using dplyr, identify the three teams with the greatest efficiency, and print a table of these teams along with their efficiency, as well as their pct_wins_aggregate_computed and payroll_aggregate_computed."
   ]
  },
  {
   "cell_type": "code",
   "execution_count": 167,
   "id": "8f0f6efe-c417-4119-a173-e060f6ce9e56",
   "metadata": {
    "scrolled": true
   },
   "outputs": [
    {
     "data": {
      "text/html": [
       "<div style='display: flex; justify-content: center;'><table class=\"table table-condensed\">\n",
       " <thead>\n",
       "  <tr>\n",
       "   <th style=\"text-align:right;\"> team </th>\n",
       "   <th style=\"text-align:right;\"> payroll_aggregate_computed </th>\n",
       "   <th style=\"text-align:right;\"> pct_wins_aggregate_computed </th>\n",
       "   <th style=\"text-align:right;\"> eff </th>\n",
       "  </tr>\n",
       " </thead>\n",
       "<tbody>\n",
       "  <tr>\n",
       "   <td style=\"text-align:right;\"> Miami Marlins </td>\n",
       "   <td style=\"text-align:right;\"> 41.06429 </td>\n",
       "   <td style=\"text-align:right;\"> 0.4673161 </td>\n",
       "   <td style=\"text-align:right;\"> 0.01138011 </td>\n",
       "  </tr>\n",
       "  <tr>\n",
       "   <td style=\"text-align:right;\"> Oakland Athletics </td>\n",
       "   <td style=\"text-align:right;\"> 52.21017 </td>\n",
       "   <td style=\"text-align:right;\"> 0.5385489 </td>\n",
       "   <td style=\"text-align:right;\"> 0.01031502 </td>\n",
       "  </tr>\n",
       "  <tr>\n",
       "   <td style=\"text-align:right;\"> Tampa Bay Rays </td>\n",
       "   <td style=\"text-align:right;\"> 45.65805 </td>\n",
       "   <td style=\"text-align:right;\"> 0.4610341 </td>\n",
       "   <td style=\"text-align:right;\"> 0.01009754 </td>\n",
       "  </tr>\n",
       "</tbody>\n",
       "</table></div>"
      ]
     },
     "metadata": {},
     "output_type": "display_data"
    }
   ],
   "source": [
    "top_eff <- mlb_aggregate_computed %>%\n",
    "    mutate(eff = pct_wins_aggregate_computed/payroll_aggregate_computed) %>%\n",
    "    arrange(desc(eff))\n",
    "print_table(head(top_eff,3))"
   ]
  },
  {
   "cell_type": "markdown",
   "id": "b93e3451-0cfa-4e56-9c50-4ac544817f7e",
   "metadata": {},
   "source": [
    "<center style=\"font-size: 17px\"><b>Table 6</b>: Top 3 most efficient teams based on `pct_wins` over `payroll` from 1998-2014</center>\n",
    "\n",
    "Note that `Efficieny` is calculated as \n",
    "$$\n",
    "eff = \\frac{pct\\_wins}{payroll}\n",
    "$$"
   ]
  },
  {
   "cell_type": "code",
   "execution_count": 177,
   "id": "5750f4c9-e129-4faf-896d-f19d858847fa",
   "metadata": {},
   "outputs": [
    {
     "data": {
      "text/html": [
       "<div style='display: flex; justify-content: center;'>\n",
       "          <img src='fig6.png' width='900px' style='margin: auto;'>\n",
       "       </div>"
      ]
     },
     "metadata": {},
     "output_type": "display_data"
    }
   ],
   "source": [
    "mlb_comp_temp <- top_eff %>%\n",
    "  mutate(team = as.character(team))\n",
    "\n",
    "mlb_comp_temp[-c(1:3),]$team = \"\"\n",
    "\n",
    "y_mean <- median(mlb_aggregate_computed$pct_wins_aggregate_computed, na.rm = TRUE)\n",
    "x_mean <- median(mlb_aggregate_computed$payroll_aggregate_computed, na.rm = TRUE)\n",
    "\n",
    "p <- mlb_comp_temp %>%\n",
    "    ggplot(aes(x = payroll_aggregate_computed, y = pct_wins_aggregate_computed, color = team, label = team)) +\n",
    "    geom_vline(aes(xintercept = x_mean, linetype = \"Payroll Median\"), color = \"black\", linewidth = 1, alpha=0.3) +\n",
    "    geom_hline(aes(yintercept = y_mean, linetype = \"Win % Median\"), color = \"black\", linewidth = 1, alpha=0.3) +\n",
    "    scale_linetype_manual(name = \"Quadrant Lines\", values = c(\"Win % Median\" = \"dashed\", \"Payroll Median\" = \"dashed\")) +\n",
    "    geom_text_repel(show.legend = FALSE) +\n",
    "    geom_point(size = 3, show.legend = FALSE) + \n",
    "    ggtitle(\"Win Percentage vs Payroll\") + \n",
    "    ylab(\"Average Win Percentage\") + \n",
    "    xlab(\"Average Payroll [millions]\") + \n",
    "    theme_gray() + \n",
    "    theme(\n",
    "        legend.position = \"top\",\n",
    "        plot.title = element_text(size = 25, hjust = 0.5, face=\"bold\"),\n",
    "        axis.title = element_text(size=20),\n",
    "        axis.title.x = element_text(margin = margin(t = 10)),\n",
    "        axis.title.y = element_text(margin = margin(r = 15))\n",
    "    )\n",
    "filename = \"fig6.png\"\n",
    "ggsave(filename, p, width=15, height = 8)\n",
    "print_plot(filename)"
   ]
  },
  {
   "cell_type": "markdown",
   "id": "438b07c0-b3ca-4927-9799-acd1e4ecc195",
   "metadata": {},
   "source": [
    "<center style=\"font-size: 17px\"><b>Figure 6</b>: Scatter plot of average `pct_win` vs average `payroll`  from <i>Table 2c</i> divided by 4 quadrants based on median (labeled with top 3 most efficient teams)</center>"
   ]
  },
  {
   "cell_type": "markdown",
   "id": "10b1971e-c2c2-400c-8d45-446c4ce94d79",
   "metadata": {},
   "source": [
    "##### In what sense do these three teams appear efficient in the previous plot?\n",
    "\n",
    "Reinforcing the observation earlier, based on the **Figure 6**, the top three most efficient teams—*Miami Marlins*, *Oakland Athletics*, and *Tampa Bay Rays*—are the teams that spent less on `payroll` and achieve more winning output relative to the spending. These are the teams that are raw for the taking in terms of investment for they aren't spending as much to their players but still manage to maximize their capabilities. It is best to think of this as maximizing, and even optimizing players to the point that their output becomes relatively more than their market value (may it be because of coaching or culture)—thus efficiency."
   ]
  }
 ],
 "metadata": {
  "kernelspec": {
   "display_name": "R [conda env:base] *",
   "language": "R",
   "name": "conda-base-r"
  },
  "language_info": {
   "codemirror_mode": "r",
   "file_extension": ".r",
   "mimetype": "text/x-r-source",
   "name": "R",
   "pygments_lexer": "r",
   "version": "4.1.3"
  }
 },
 "nbformat": 4,
 "nbformat_minor": 5
}
